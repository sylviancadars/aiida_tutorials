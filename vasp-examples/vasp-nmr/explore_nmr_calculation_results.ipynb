{
 "cells": [
  {
   "cell_type": "code",
   "execution_count": 1,
   "id": "868b6437-2ca2-4be7-9ead-8f9a191148b2",
   "metadata": {},
   "outputs": [
    {
     "data": {
      "application/json": {
       "current_state": "Loaded AiiDA DB environment - profile name: tutorials_2024-03-05."
      },
      "text/html": [
       "<p>Loaded AiiDA DB environment - profile name: tutorials_2024-03-05.</p>"
      ],
      "text/latex": [
       "Loaded AiiDA DB environment - profile name: tutorials_2024-03-05.\n"
      ],
      "text/plain": [
       "Loaded AiiDA DB environment - profile name: tutorials_2024-03-05.\n"
      ]
     },
     "execution_count": 1,
     "metadata": {},
     "output_type": "execute_result"
    }
   ],
   "source": [
    "%aiida"
   ]
  },
  {
   "cell_type": "markdown",
   "id": "628187e1-ce3a-42cf-8b38-c615c1ca757e",
   "metadata": {},
   "source": [
    "## Load modules"
   ]
  },
  {
   "cell_type": "code",
   "execution_count": 2,
   "id": "3fc76d13-a4e2-4096-b50d-d1b030b04382",
   "metadata": {},
   "outputs": [],
   "source": [
    "import aiida_user_utils.common as auuc\n",
    "import aiida_user_utils.vasp as vasp\n"
   ]
  },
  {
   "cell_type": "code",
   "execution_count": 3,
   "id": "cbf9e24a-fb37-455c-ba3a-da5584364fef",
   "metadata": {},
   "outputs": [],
   "source": [
    "### Load the aiida-vasp nmr calculation node"
   ]
  },
  {
   "cell_type": "code",
   "execution_count": 4,
   "id": "6286f08c-3ecb-42cc-82df-f8d9491a7e18",
   "metadata": {},
   "outputs": [
    {
     "name": "stdout",
     "output_type": "stream",
     "text": [
      "uuid: 6f68b0e2-c897-4ea2-a124-968569ee0549 (pk: 851) (aiida.calculations:vasp.vasp)\n"
     ]
    }
   ],
   "source": [
    "nmr_calc_node = load_node(851)\n",
    "print(nmr_calc_node)"
   ]
  },
  {
   "cell_type": "markdown",
   "id": "a3ff3524-2221-4a44-96be-cc16320895ec",
   "metadata": {},
   "source": [
    "### Get NMR parameters from retrtieved OUTCAR file (not parsed by AiiDA)"
   ]
  },
  {
   "cell_type": "code",
   "execution_count": 5,
   "id": "875b3b8b-1607-495d-b3f1-668bde61e331",
   "metadata": {},
   "outputs": [
    {
     "name": "stdout",
     "output_type": "stream",
     "text": [
      "[{'chemical_shielding': ChemicalShielding([[-27726.23412304      0.              0.        ]\n",
      " [     0.          53288.32034608      0.        ]\n",
      " [     0.              0.          80697.95547696]]), 'electric_field_gradient': ElectricFieldGradient([[16.663 10.799  3.231]\n",
      " [10.799 -6.988 -8.33 ]\n",
      " [ 3.231 -8.33  -9.675]]), 'efg_parameters': {'cq': 0.05, 'eta': 0.86, 'nuclear_quadrupole_moment': 1.0}, 'cs_sigma_iso': 35420.0139, 'cs_delta_sigma_iso': -94719.37203455999, 'cs_eta': 0.43406593406593397, 'cs_omega': 108424.18959999998, 'cs_span': 108424.18959999998, 'cs_kappa': 0.4944000000000001, 'cs_skew': 0.4944000000000001, 'efg_cq': 0.05, 'efg_eta': 0.86, 'efg_nuclear_quadrupole_moment': 1.0, 'efg_v_xx': -1.4597787488937302, 'efg_v_yy': -19.39211637804234, 'efg_v_zz': 20.851895126936075}, {'chemical_shielding': ChemicalShielding([[-27726.23412304      0.              0.        ]\n",
      " [     0.          53288.32034608      0.        ]\n",
      " [     0.              0.          80697.95547696]]), 'electric_field_gradient': ElectricFieldGradient([[16.663 10.799  3.231]\n",
      " [10.799 -6.988 -8.33 ]\n",
      " [ 3.231 -8.33  -9.675]]), 'efg_parameters': {'cq': 0.05, 'eta': 0.86, 'nuclear_quadrupole_moment': 1.0}, 'cs_sigma_iso': 35420.0139, 'cs_delta_sigma_iso': -94719.37203455999, 'cs_eta': 0.43406593406593397, 'cs_omega': 108424.18959999998, 'cs_span': 108424.18959999998, 'cs_kappa': 0.4944000000000001, 'cs_skew': 0.4944000000000001, 'efg_cq': 0.05, 'efg_eta': 0.86, 'efg_nuclear_quadrupole_moment': 1.0, 'efg_v_xx': -1.4597787488937302, 'efg_v_yy': -19.39211637804234, 'efg_v_zz': 20.851895126936075}, {'chemical_shielding': ChemicalShielding([[-26818.77845899      0.              0.        ]\n",
      " [     0.          53310.82051799      0.        ]\n",
      " [     0.              0.          80969.22124101]]), 'electric_field_gradient': ElectricFieldGradient([[ 1.9030e+00  1.7340e+00  5.4990e+00]\n",
      " [ 1.7340e+00 -1.8940e+00 -1.4177e+01]\n",
      " [ 5.4990e+00 -1.4177e+01 -9.0000e-03]]), 'efg_parameters': {'cq': -0.04, 'eta': 0.689, 'nuclear_quadrupole_moment': 1.0}, 'cs_sigma_iso': 35820.4211, 'cs_delta_sigma_iso': -93958.79933849, 'cs_eta': 0.44155099231386935, 'cs_omega': 107787.99969999999, 'cs_span': 107787.99969999999, 'cs_kappa': 0.4868, 'cs_skew': 0.4868, 'efg_cq': -0.04, 'efg_eta': 0.689, 'efg_nuclear_quadrupole_moment': 1.0, 'efg_v_xx': 2.575697807136523, 'efg_v_yy': 13.971960551491588, 'efg_v_zz': -16.547658358628137}, {'chemical_shielding': ChemicalShielding([[-26818.7779522      0.             0.       ]\n",
      " [     0.         53310.8205044      0.       ]\n",
      " [     0.             0.         80969.2210478]]), 'electric_field_gradient': ElectricFieldGradient([[ 1.9030e+00  1.7340e+00  5.4990e+00]\n",
      " [ 1.7340e+00 -1.8940e+00 -1.4177e+01]\n",
      " [ 5.4990e+00 -1.4177e+01 -9.0000e-03]]), 'efg_parameters': {'cq': -0.04, 'eta': 0.689, 'nuclear_quadrupole_moment': 1.0}, 'cs_sigma_iso': 35820.421200000004, 'cs_delta_sigma_iso': -93958.7987283, 'cs_eta': 0.44155099231386963, 'cs_omega': 107787.99900000001, 'cs_span': 107787.99900000001, 'cs_kappa': 0.4867999999999996, 'cs_skew': 0.4867999999999996, 'efg_cq': -0.04, 'efg_eta': 0.689, 'efg_nuclear_quadrupole_moment': 1.0, 'efg_v_xx': 2.575697807136523, 'efg_v_yy': 13.971960551491588, 'efg_v_zz': -16.547658358628137}]\n"
     ]
    }
   ],
   "source": [
    "# help(vasp.get_nmr_parameters_from_vasp_process)\n",
    "nmr_list = vasp.get_nmr_parameters_from_vasp_process(nmr_calc_node)\n",
    "print(nmr_list)"
   ]
  },
  {
   "cell_type": "markdown",
   "id": "8a69be38-4dc2-4a53-86db-bba147699fb1",
   "metadata": {},
   "source": [
    "### store nmr results in database explore them"
   ]
  },
  {
   "cell_type": "code",
   "execution_count": 6,
   "id": "54cd48ec-600a-410f-b3c8-9986e489cc3f",
   "metadata": {},
   "outputs": [
    {
     "name": "stdout",
     "output_type": "stream",
     "text": [
      "{'nmr_parameters': <ArrayData: uuid: 824b7a0a-036f-412b-97bb-9bac5a02a411 (pk: 870)>}\n",
      "['nmr_cs_eta', 'nmr_efg_cq', 'nmr_cs_skew', 'nmr_cs_span', 'nmr_efg_eta', 'nmr_cs_kappa', 'nmr_cs_omega', 'nmr_efg_v_xx', 'nmr_efg_v_yy', 'nmr_efg_v_zz', 'nmr_cs_sigma_iso', 'nmr_cs_delta_sigma_iso', 'nmr_efg_nuclear_quadrupole_moment']\n",
      "[35420.0139 35420.0139 35820.4211 35820.4212]\n"
     ]
    }
   ],
   "source": [
    "result = vasp.store_nmr_parameters_from_structure(nmr_calc_node.inputs.structure)\n",
    "print(result)\n",
    "nmr_param_array = result['nmr_parameters']\n",
    "print(nmr_param_array.get_arraynames())\n",
    "print(nmr_param_array.get_array('nmr_cs_sigma_iso'))"
   ]
  },
  {
   "cell_type": "code",
   "execution_count": 9,
   "id": "f2cc6d02-8e41-4dd5-9a7a-48fbba204c30",
   "metadata": {},
   "outputs": [
    {
     "data": {
      "text/plain": [
       "ChemicalShielding([[-27726.23412304      0.              0.        ]\n",
       " [     0.          53288.32034608      0.        ]\n",
       " [     0.              0.          80697.95547696]])"
      ]
     },
     "execution_count": 9,
     "metadata": {},
     "output_type": "execute_result"
    }
   ],
   "source": []
  },
  {
   "cell_type": "code",
   "execution_count": null,
   "id": "07eb9ce5-0594-4ab4-81b2-20453dbdc298",
   "metadata": {},
   "outputs": [],
   "source": []
  }
 ],
 "metadata": {
  "kernelspec": {
   "display_name": "Python 3 (ipykernel)",
   "language": "python",
   "name": "python3"
  },
  "language_info": {
   "codemirror_mode": {
    "name": "ipython",
    "version": 3
   },
   "file_extension": ".py",
   "mimetype": "text/x-python",
   "name": "python",
   "nbconvert_exporter": "python",
   "pygments_lexer": "ipython3",
   "version": "3.11.0"
  }
 },
 "nbformat": 4,
 "nbformat_minor": 5
}
